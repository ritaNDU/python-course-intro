{
  "metadata": {
    "language_info": {
      "codemirror_mode": {
        "name": "python",
        "version": 3
      },
      "file_extension": ".py",
      "mimetype": "text/x-python",
      "name": "python",
      "nbconvert_exporter": "python",
      "pygments_lexer": "ipython3",
      "version": "3.8"
    },
    "kernelspec": {
      "name": "python",
      "display_name": "Python (Pyodide)",
      "language": "python"
    }
  },
  "nbformat_minor": 4,
  "nbformat": 4,
  "cells": [
    {
      "cell_type": "markdown",
      "source": "# Welcome to PythonLand",
      "metadata": {}
    },
    {
      "cell_type": "markdown",
      "source": "Now, you are all set up and ready to get started with your programming adventure!<br>\nLet's start with almost your first program.",
      "metadata": {}
    },
    {
      "cell_type": "markdown",
      "source": "## Almost Your First Program \nIn the slides we have seen the following code, but we haven't tested it yet.\n<br>Press on the run button and see what happens.",
      "metadata": {}
    },
    {
      "cell_type": "code",
      "source": "num1 = 2\nnum2 = 3\n\nsum = num1 + num2\nprint(f\"Sum of {num1} and {num2} is {sum}.\")",
      "metadata": {
        "trusted": true
      },
      "execution_count": null,
      "outputs": []
    },
    {
      "cell_type": "markdown",
      "source": "> **Notice** Just as we said, the program displays the sentence that is written in the print statement.<br> It also replaces the num1, num2 and sum words by their values.",
      "metadata": {}
    },
    {
      "cell_type": "markdown",
      "source": "### Now it's your turn!\nReplace the numbers 2 and 3 in the num1 and num 2 variables by any 2 numbers you like, and see what happens.<br>",
      "metadata": {
        "jp-MarkdownHeadingCollapsed": true
      }
    },
    {
      "cell_type": "markdown",
      "source": "## Your First Real Program",
      "metadata": {}
    },
    {
      "cell_type": "markdown",
      "source": "Now, it's time to create your very <strong>first real program</strong>!<br> \nAll you have to do is type this simple line of code in the code section below:<br>\nprint(\"Hello, World!\")\n>Make sure you use the \"quotation marks\" just like in the example. ",
      "metadata": {}
    },
    {
      "cell_type": "code",
      "source": "# -----------------Code Section----------------- \n# Add your code below...",
      "metadata": {
        "trusted": true
      },
      "execution_count": 5,
      "outputs": []
    },
    {
      "cell_type": "markdown",
      "source": "Congratulations! You just wrote your very own first program!",
      "metadata": {}
    },
    {
      "cell_type": "markdown",
      "source": "## That's it folks!",
      "metadata": {}
    },
    {
      "cell_type": "markdown",
      "source": "In this section, you have tried your almost first program, and have written yourself your very first real program.<br>Good Job!<br>\nYou're now in for a long and exciting adventure! Will you be up to the challenge?",
      "metadata": {}
    }
  ]
}